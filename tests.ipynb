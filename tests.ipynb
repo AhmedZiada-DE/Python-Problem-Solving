{
 "cells": [
  {
   "cell_type": "code",
   "execution_count": 3,
   "metadata": {},
   "outputs": [
    {
     "name": "stdout",
     "output_type": "stream",
     "text": [
      "2023-03-20\n"
     ]
    }
   ],
   "source": [
    "from datetime import datetime\n",
    "\n",
    "# A date string\n",
    "date_str = \"2023-03-20\"\n",
    "\n",
    "# Define the format of the date string\n",
    "date_format = \"%Y-%m-%d\"\n",
    "\n",
    "# Convert the string to a date object\n",
    "date_obj = datetime.strptime(date_str, date_format).date()\n",
    "print(date_obj)"
   ]
  },
  {
   "cell_type": "code",
   "execution_count": 27,
   "metadata": {},
   "outputs": [
    {
     "data": {
      "text/plain": [
       "[[0, 0, 0],\n",
       " [1, 0, 0],\n",
       " [2, 0, 0],\n",
       " [3, 0, 0],\n",
       " [0, 1, 0],\n",
       " [1, 1, 0],\n",
       " [2, 1, 0],\n",
       " [3, 1, 0],\n",
       " [0, 2, 0],\n",
       " [1, 2, 0],\n",
       " [2, 2, 0],\n",
       " [3, 2, 0],\n",
       " [0, 3, 0],\n",
       " [1, 3, 0],\n",
       " [2, 3, 0],\n",
       " [3, 3, 0],\n",
       " [0, 0, 1],\n",
       " [1, 0, 1],\n",
       " [2, 0, 1],\n",
       " [3, 0, 1],\n",
       " [0, 1, 1],\n",
       " [1, 1, 1],\n",
       " [2, 1, 1],\n",
       " [3, 1, 1],\n",
       " [0, 2, 1],\n",
       " [1, 2, 1],\n",
       " [2, 2, 1],\n",
       " [3, 2, 1],\n",
       " [0, 3, 1],\n",
       " [1, 3, 1],\n",
       " [2, 3, 1],\n",
       " [3, 3, 1],\n",
       " [0, 0, 2],\n",
       " [1, 0, 2],\n",
       " [2, 0, 2],\n",
       " [3, 0, 2],\n",
       " [0, 1, 2],\n",
       " [1, 1, 2],\n",
       " [2, 1, 2],\n",
       " [3, 1, 2],\n",
       " [0, 2, 2],\n",
       " [1, 2, 2],\n",
       " [2, 2, 2],\n",
       " [3, 2, 2],\n",
       " [0, 3, 2],\n",
       " [1, 3, 2],\n",
       " [2, 3, 2],\n",
       " [3, 3, 2],\n",
       " [0, 0, 3],\n",
       " [1, 0, 3],\n",
       " [2, 0, 3],\n",
       " [3, 0, 3],\n",
       " [0, 1, 3],\n",
       " [1, 1, 3],\n",
       " [2, 1, 3],\n",
       " [3, 1, 3],\n",
       " [0, 2, 3],\n",
       " [1, 2, 3],\n",
       " [2, 2, 3],\n",
       " [3, 2, 3],\n",
       " [0, 3, 3],\n",
       " [1, 3, 3],\n",
       " [2, 3, 3],\n",
       " [3, 3, 3]]"
      ]
     },
     "execution_count": 27,
     "metadata": {},
     "output_type": "execute_result"
    }
   ],
   "source": [
    "x=3\n",
    "y=3\n",
    "z=3 \n",
    "n=3\n",
    "a = []\n",
    "newli = [[i,j,k] for k in range(z+1) for j in range(y+1) for i in range(x+1) if x+y+z !=n]\n",
    "newli"
   ]
  },
  {
   "cell_type": "code",
   "execution_count": null,
   "metadata": {},
   "outputs": [],
   "source": []
  }
 ],
 "metadata": {
  "kernelspec": {
   "display_name": "Python 3",
   "language": "python",
   "name": "python3"
  },
  "language_info": {
   "codemirror_mode": {
    "name": "ipython",
    "version": 3
   },
   "file_extension": ".py",
   "mimetype": "text/x-python",
   "name": "python",
   "nbconvert_exporter": "python",
   "pygments_lexer": "ipython3",
   "version": "3.11.3"
  }
 },
 "nbformat": 4,
 "nbformat_minor": 2
}
